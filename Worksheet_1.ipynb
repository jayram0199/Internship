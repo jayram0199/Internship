{
 "cells": [
  {
   "cell_type": "code",
   "execution_count": 18,
   "id": "15b0b0ff",
   "metadata": {},
   "outputs": [
    {
     "name": "stdout",
     "output_type": "stream",
     "text": [
      "Factorial of 9 Is 362880\n"
     ]
    }
   ],
   "source": [
    "def factorial(x):\n",
    "        if x == 1:\n",
    "            return 1\n",
    "        else:\n",
    "            return(x * factorial(x-1))\n",
    "num = 9\n",
    "result = factorial(num)\n",
    "print(\"Factorial of\",num,\"Is\",result)\n",
    "        \n",
    "        "
   ]
  },
  {
   "cell_type": "code",
   "execution_count": 4,
   "id": "d6af2a71",
   "metadata": {},
   "outputs": [
    {
     "name": "stdout",
     "output_type": "stream",
     "text": [
      "Enter the number3\n",
      "3 is prime number\n"
     ]
    }
   ],
   "source": [
    "num = int(input(\"Enter the number\"))\n",
    "if num > 1:\n",
    "    for i in range(2,num):\n",
    "        if num % i == 0:\n",
    "            print ( num, \" is composite number\")\n",
    "            break\n",
    "    else:\n",
    "        print(num,\"is prime number\")\n",
    "else:\n",
    "    print(num,\"is prime number\")\n",
    "            "
   ]
  },
  {
   "cell_type": "code",
   "execution_count": 7,
   "id": "759681a1",
   "metadata": {},
   "outputs": [
    {
     "name": "stdout",
     "output_type": "stream",
     "text": [
      "Enter stringsas\n",
      "Yes\n"
     ]
    }
   ],
   "source": [
    "def isPalindrome(s):\n",
    "    return s == s[::-1]\n",
    "s =input(\"Enter string\")\n",
    "ans = isPalindrome(s)\n",
    "  \n",
    "if ans:\n",
    "    print(\"Yes\")\n",
    "else:\n",
    "    print(\"No\")\n"
   ]
  },
  {
   "cell_type": "code",
   "execution_count": 8,
   "id": "8306ce2a",
   "metadata": {},
   "outputs": [
    {
     "name": "stdout",
     "output_type": "stream",
     "text": [
      "Enter first side of right-angled triangle: 0.34\n",
      "Enter second side of right-angled triangle: .34\n",
      "Third side of right-angled triangle is: 0.4808326112068524\n"
     ]
    }
   ],
   "source": [
    "import math\n",
    "\n",
    "def third_side(a, b):\n",
    "    c = math.sqrt(a**2 + b**2)\n",
    "    return c\n",
    "\n",
    "a = float(input(\"Enter first side of right-angled triangle: \"))\n",
    "b = float(input(\"Enter second side of right-angled triangle: \"))\n",
    "\n",
    "print(\"Third side of right-angled triangle is:\", third_side(a, b))"
   ]
  },
  {
   "cell_type": "code",
   "execution_count": 3,
   "id": "efa19001",
   "metadata": {},
   "outputs": [
    {
     "name": "stdout",
     "output_type": "stream",
     "text": [
      "Counter({' ': 3, 'a': 3, 't': 3, 'i': 2, 'I': 1, 'm': 1, 'D': 1, 'S': 1, 'c': 1, 'e': 1, 'n': 1, 's': 1})\n"
     ]
    }
   ],
   "source": [
    "from collections import Counter\n",
    " \n",
    "# initializing string\n",
    "test_str = \"I am Data Scientist\"\n",
    " \n",
    "# using collections.Counter() to get\n",
    "# count of each element in string\n",
    "res = Counter(test_str)\n",
    " \n",
    "# printing result\n",
    "print(str(res))"
   ]
  },
  {
   "cell_type": "code",
   "execution_count": null,
   "id": "3049b33d",
   "metadata": {},
   "outputs": [],
   "source": []
  },
  {
   "cell_type": "code",
   "execution_count": null,
   "id": "30e3b17b",
   "metadata": {},
   "outputs": [],
   "source": []
  }
 ],
 "metadata": {
  "kernelspec": {
   "display_name": "Python 3 (ipykernel)",
   "language": "python",
   "name": "python3"
  },
  "language_info": {
   "codemirror_mode": {
    "name": "ipython",
    "version": 3
   },
   "file_extension": ".py",
   "mimetype": "text/x-python",
   "name": "python",
   "nbconvert_exporter": "python",
   "pygments_lexer": "ipython3",
   "version": "3.9.13"
  }
 },
 "nbformat": 4,
 "nbformat_minor": 5
}
